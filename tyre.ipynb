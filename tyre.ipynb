{
 "cells": [
  {
   "cell_type": "markdown",
   "id": "4a3efe41",
   "metadata": {},
   "source": [
    "Name:Yasir Farooqui"
   ]
  },
  {
   "cell_type": "markdown",
   "id": "900caf85",
   "metadata": {},
   "source": [
    "Tyre Dataset with Early Stopping"
   ]
  },
  {
   "cell_type": "code",
   "execution_count": null,
   "id": "470c9fc3",
   "metadata": {},
   "outputs": [],
   "source": [
    "import sys\n",
    "import torch\n",
    "import torchvision\n",
    "from torchvision import transforms\n",
    "from torch.utils.data import random_split,DataLoader\n",
    "import matplotlib.pyplot as plt\n"
   ]
  },
  {
   "cell_type": "markdown",
   "id": "2b392cea",
   "metadata": {},
   "source": [
    "#preprocessing using ResNEt Pipeline"
   ]
  },
  {
   "cell_type": "code",
   "execution_count": 2,
   "id": "d9c42a88",
   "metadata": {},
   "outputs": [],
   "source": [
    "preprocess=transforms.Compose(\n",
    "    \n",
    "    [transforms.Resize(256),\n",
    "    transforms.CenterCrop(224),\n",
    "    transforms.ToTensor(),\n",
    "    transforms.Normalize(mean=[0.485,0.456,0.456],std=[0.229,0.224,0.225]),]\n",
    "    )"
   ]
  },
  {
   "cell_type": "markdown",
   "id": "f7e5a89f",
   "metadata": {},
   "source": [
    "Importing the dataset"
   ]
  },
  {
   "cell_type": "code",
   "execution_count": 3,
   "id": "e8421666",
   "metadata": {},
   "outputs": [
    {
     "name": "stdout",
     "output_type": "stream",
     "text": [
      "{'defective': 0, 'good': 1}\n",
      "(tensor([[[-1.5870, -1.5528, -1.5357,  ..., -0.4397, -0.4911, -0.5596],\n",
      "         [-1.5357, -1.5528, -1.5528,  ..., -0.4739, -0.5253, -0.5767],\n",
      "         [-1.4843, -1.5528, -1.5528,  ..., -0.5082, -0.4397, -0.4397],\n",
      "         ...,\n",
      "         [-0.4739, -0.3027, -0.5253,  ..., -0.1486, -0.1486, -0.2342],\n",
      "         [-0.4226, -0.1828, -0.2684,  ..., -0.2171, -0.2684, -0.3198],\n",
      "         [-0.4568, -0.2342, -0.3712,  ..., -0.2856, -0.2513, -0.3198]],\n",
      "\n",
      "        [[-1.5980, -1.5280, -1.5105,  ..., -0.3901, -0.4426, -0.5126],\n",
      "         [-1.5280, -1.5280, -1.5280,  ..., -0.4251, -0.4776, -0.5301],\n",
      "         [-1.4580, -1.5280, -1.5280,  ..., -0.4601, -0.4076, -0.4076],\n",
      "         ...,\n",
      "         [-0.4076, -0.2325, -0.4601,  ..., -0.0574, -0.0924, -0.1975],\n",
      "         [-0.3375, -0.1099, -0.1975,  ..., -0.1275, -0.2150, -0.2850],\n",
      "         [-0.3550, -0.1625, -0.3200,  ..., -0.1975, -0.1625, -0.2325]],\n",
      "\n",
      "        [[-1.5909, -1.5386, -1.5212,  ..., -0.4058, -0.4580, -0.5278],\n",
      "         [-1.5212, -1.5386, -1.5386,  ..., -0.4406, -0.4755, -0.5103],\n",
      "         [-1.4689, -1.5386, -1.5386,  ..., -0.4755, -0.3709, -0.3360],\n",
      "         ...,\n",
      "         [-0.4929, -0.3186, -0.5452,  ..., -0.0049, -0.0049, -0.0920],\n",
      "         [-0.4232, -0.1966, -0.2837,  ..., -0.0746, -0.1269, -0.1792],\n",
      "         [-0.4232, -0.2140, -0.3883,  ..., -0.1095, -0.0746, -0.1443]]]), 0)\n"
     ]
    }
   ],
   "source": [
    "dataset=torchvision.datasets.ImageFolder(\n",
    "    root='D:/DL_LAb/tyre/Digital images of defective and good condition tyres',\n",
    "    transform=preprocess\n",
    ")\n",
    "print(dataset.class_to_idx)\n",
    "print(dataset[123])"
   ]
  },
  {
   "cell_type": "markdown",
   "id": "c95ac20e",
   "metadata": {},
   "source": [
    "performing Train /Test Split"
   ]
  },
  {
   "cell_type": "code",
   "execution_count": 4,
   "id": "07e11834",
   "metadata": {},
   "outputs": [
    {
     "data": {
      "text/plain": [
       "1485"
      ]
     },
     "execution_count": 4,
     "metadata": {},
     "output_type": "execute_result"
    }
   ],
   "source": [
    "train_ds,val_ds=random_split(dataset,[0.8,0.2])\n",
    "len(train_ds)\n"
   ]
  },
  {
   "cell_type": "markdown",
   "id": "9bdc28af",
   "metadata": {},
   "source": [
    "Checking shape of datasets in data loaders"
   ]
  },
  {
   "cell_type": "code",
   "execution_count": 5,
   "id": "e8b57aa0",
   "metadata": {},
   "outputs": [
    {
     "name": "stdout",
     "output_type": "stream",
     "text": [
      "torch.Size([4, 3, 224, 224])\n",
      "torch.Size([4])\n"
     ]
    }
   ],
   "source": [
    "train_data_loader=DataLoader(train_ds,batch_size=4,shuffle=True)\n",
    "test_data_loader=DataLoader(val_ds,batch_size=4,shuffle=False)\n",
    "\n",
    "for X,y in train_data_loader:\n",
    "    print(X.shape)\n",
    "    print(y.shape)\n",
    "    break"
   ]
  },
  {
   "cell_type": "markdown",
   "id": "e78b6817",
   "metadata": {},
   "source": [
    " Setting default device"
   ]
  },
  {
   "cell_type": "code",
   "execution_count": 6,
   "id": "8148af32",
   "metadata": {},
   "outputs": [
    {
     "name": "stdout",
     "output_type": "stream",
     "text": [
      "cuda\n"
     ]
    }
   ],
   "source": [
    "device=torch.device('cpu')\n",
    "if torch.cuda.is_available():\n",
    "    device=torch.device('cuda')\n",
    "elif torch.backends.mps.is_available():\n",
    "    device=torch.device('mps')\n",
    "\n",
    "print(device)"
   ]
  },
  {
   "cell_type": "code",
   "execution_count": 7,
   "id": "d8e72a09",
   "metadata": {},
   "outputs": [
    {
     "data": {
      "text/plain": [
       "ResNet(\n",
       "  (conv1): Conv2d(3, 64, kernel_size=(7, 7), stride=(2, 2), padding=(3, 3), bias=False)\n",
       "  (bn1): BatchNorm2d(64, eps=1e-05, momentum=0.1, affine=True, track_running_stats=True)\n",
       "  (relu): ReLU(inplace=True)\n",
       "  (maxpool): MaxPool2d(kernel_size=3, stride=2, padding=1, dilation=1, ceil_mode=False)\n",
       "  (layer1): Sequential(\n",
       "    (0): Bottleneck(\n",
       "      (conv1): Conv2d(64, 64, kernel_size=(1, 1), stride=(1, 1), bias=False)\n",
       "      (bn1): BatchNorm2d(64, eps=1e-05, momentum=0.1, affine=True, track_running_stats=True)\n",
       "      (conv2): Conv2d(64, 64, kernel_size=(3, 3), stride=(1, 1), padding=(1, 1), bias=False)\n",
       "      (bn2): BatchNorm2d(64, eps=1e-05, momentum=0.1, affine=True, track_running_stats=True)\n",
       "      (conv3): Conv2d(64, 256, kernel_size=(1, 1), stride=(1, 1), bias=False)\n",
       "      (bn3): BatchNorm2d(256, eps=1e-05, momentum=0.1, affine=True, track_running_stats=True)\n",
       "      (relu): ReLU(inplace=True)\n",
       "      (downsample): Sequential(\n",
       "        (0): Conv2d(64, 256, kernel_size=(1, 1), stride=(1, 1), bias=False)\n",
       "        (1): BatchNorm2d(256, eps=1e-05, momentum=0.1, affine=True, track_running_stats=True)\n",
       "      )\n",
       "    )\n",
       "    (1): Bottleneck(\n",
       "      (conv1): Conv2d(256, 64, kernel_size=(1, 1), stride=(1, 1), bias=False)\n",
       "      (bn1): BatchNorm2d(64, eps=1e-05, momentum=0.1, affine=True, track_running_stats=True)\n",
       "      (conv2): Conv2d(64, 64, kernel_size=(3, 3), stride=(1, 1), padding=(1, 1), bias=False)\n",
       "      (bn2): BatchNorm2d(64, eps=1e-05, momentum=0.1, affine=True, track_running_stats=True)\n",
       "      (conv3): Conv2d(64, 256, kernel_size=(1, 1), stride=(1, 1), bias=False)\n",
       "      (bn3): BatchNorm2d(256, eps=1e-05, momentum=0.1, affine=True, track_running_stats=True)\n",
       "      (relu): ReLU(inplace=True)\n",
       "    )\n",
       "    (2): Bottleneck(\n",
       "      (conv1): Conv2d(256, 64, kernel_size=(1, 1), stride=(1, 1), bias=False)\n",
       "      (bn1): BatchNorm2d(64, eps=1e-05, momentum=0.1, affine=True, track_running_stats=True)\n",
       "      (conv2): Conv2d(64, 64, kernel_size=(3, 3), stride=(1, 1), padding=(1, 1), bias=False)\n",
       "      (bn2): BatchNorm2d(64, eps=1e-05, momentum=0.1, affine=True, track_running_stats=True)\n",
       "      (conv3): Conv2d(64, 256, kernel_size=(1, 1), stride=(1, 1), bias=False)\n",
       "      (bn3): BatchNorm2d(256, eps=1e-05, momentum=0.1, affine=True, track_running_stats=True)\n",
       "      (relu): ReLU(inplace=True)\n",
       "    )\n",
       "  )\n",
       "  (layer2): Sequential(\n",
       "    (0): Bottleneck(\n",
       "      (conv1): Conv2d(256, 128, kernel_size=(1, 1), stride=(1, 1), bias=False)\n",
       "      (bn1): BatchNorm2d(128, eps=1e-05, momentum=0.1, affine=True, track_running_stats=True)\n",
       "      (conv2): Conv2d(128, 128, kernel_size=(3, 3), stride=(2, 2), padding=(1, 1), bias=False)\n",
       "      (bn2): BatchNorm2d(128, eps=1e-05, momentum=0.1, affine=True, track_running_stats=True)\n",
       "      (conv3): Conv2d(128, 512, kernel_size=(1, 1), stride=(1, 1), bias=False)\n",
       "      (bn3): BatchNorm2d(512, eps=1e-05, momentum=0.1, affine=True, track_running_stats=True)\n",
       "      (relu): ReLU(inplace=True)\n",
       "      (downsample): Sequential(\n",
       "        (0): Conv2d(256, 512, kernel_size=(1, 1), stride=(2, 2), bias=False)\n",
       "        (1): BatchNorm2d(512, eps=1e-05, momentum=0.1, affine=True, track_running_stats=True)\n",
       "      )\n",
       "    )\n",
       "    (1): Bottleneck(\n",
       "      (conv1): Conv2d(512, 128, kernel_size=(1, 1), stride=(1, 1), bias=False)\n",
       "      (bn1): BatchNorm2d(128, eps=1e-05, momentum=0.1, affine=True, track_running_stats=True)\n",
       "      (conv2): Conv2d(128, 128, kernel_size=(3, 3), stride=(1, 1), padding=(1, 1), bias=False)\n",
       "      (bn2): BatchNorm2d(128, eps=1e-05, momentum=0.1, affine=True, track_running_stats=True)\n",
       "      (conv3): Conv2d(128, 512, kernel_size=(1, 1), stride=(1, 1), bias=False)\n",
       "      (bn3): BatchNorm2d(512, eps=1e-05, momentum=0.1, affine=True, track_running_stats=True)\n",
       "      (relu): ReLU(inplace=True)\n",
       "    )\n",
       "    (2): Bottleneck(\n",
       "      (conv1): Conv2d(512, 128, kernel_size=(1, 1), stride=(1, 1), bias=False)\n",
       "      (bn1): BatchNorm2d(128, eps=1e-05, momentum=0.1, affine=True, track_running_stats=True)\n",
       "      (conv2): Conv2d(128, 128, kernel_size=(3, 3), stride=(1, 1), padding=(1, 1), bias=False)\n",
       "      (bn2): BatchNorm2d(128, eps=1e-05, momentum=0.1, affine=True, track_running_stats=True)\n",
       "      (conv3): Conv2d(128, 512, kernel_size=(1, 1), stride=(1, 1), bias=False)\n",
       "      (bn3): BatchNorm2d(512, eps=1e-05, momentum=0.1, affine=True, track_running_stats=True)\n",
       "      (relu): ReLU(inplace=True)\n",
       "    )\n",
       "    (3): Bottleneck(\n",
       "      (conv1): Conv2d(512, 128, kernel_size=(1, 1), stride=(1, 1), bias=False)\n",
       "      (bn1): BatchNorm2d(128, eps=1e-05, momentum=0.1, affine=True, track_running_stats=True)\n",
       "      (conv2): Conv2d(128, 128, kernel_size=(3, 3), stride=(1, 1), padding=(1, 1), bias=False)\n",
       "      (bn2): BatchNorm2d(128, eps=1e-05, momentum=0.1, affine=True, track_running_stats=True)\n",
       "      (conv3): Conv2d(128, 512, kernel_size=(1, 1), stride=(1, 1), bias=False)\n",
       "      (bn3): BatchNorm2d(512, eps=1e-05, momentum=0.1, affine=True, track_running_stats=True)\n",
       "      (relu): ReLU(inplace=True)\n",
       "    )\n",
       "  )\n",
       "  (layer3): Sequential(\n",
       "    (0): Bottleneck(\n",
       "      (conv1): Conv2d(512, 256, kernel_size=(1, 1), stride=(1, 1), bias=False)\n",
       "      (bn1): BatchNorm2d(256, eps=1e-05, momentum=0.1, affine=True, track_running_stats=True)\n",
       "      (conv2): Conv2d(256, 256, kernel_size=(3, 3), stride=(2, 2), padding=(1, 1), bias=False)\n",
       "      (bn2): BatchNorm2d(256, eps=1e-05, momentum=0.1, affine=True, track_running_stats=True)\n",
       "      (conv3): Conv2d(256, 1024, kernel_size=(1, 1), stride=(1, 1), bias=False)\n",
       "      (bn3): BatchNorm2d(1024, eps=1e-05, momentum=0.1, affine=True, track_running_stats=True)\n",
       "      (relu): ReLU(inplace=True)\n",
       "      (downsample): Sequential(\n",
       "        (0): Conv2d(512, 1024, kernel_size=(1, 1), stride=(2, 2), bias=False)\n",
       "        (1): BatchNorm2d(1024, eps=1e-05, momentum=0.1, affine=True, track_running_stats=True)\n",
       "      )\n",
       "    )\n",
       "    (1): Bottleneck(\n",
       "      (conv1): Conv2d(1024, 256, kernel_size=(1, 1), stride=(1, 1), bias=False)\n",
       "      (bn1): BatchNorm2d(256, eps=1e-05, momentum=0.1, affine=True, track_running_stats=True)\n",
       "      (conv2): Conv2d(256, 256, kernel_size=(3, 3), stride=(1, 1), padding=(1, 1), bias=False)\n",
       "      (bn2): BatchNorm2d(256, eps=1e-05, momentum=0.1, affine=True, track_running_stats=True)\n",
       "      (conv3): Conv2d(256, 1024, kernel_size=(1, 1), stride=(1, 1), bias=False)\n",
       "      (bn3): BatchNorm2d(1024, eps=1e-05, momentum=0.1, affine=True, track_running_stats=True)\n",
       "      (relu): ReLU(inplace=True)\n",
       "    )\n",
       "    (2): Bottleneck(\n",
       "      (conv1): Conv2d(1024, 256, kernel_size=(1, 1), stride=(1, 1), bias=False)\n",
       "      (bn1): BatchNorm2d(256, eps=1e-05, momentum=0.1, affine=True, track_running_stats=True)\n",
       "      (conv2): Conv2d(256, 256, kernel_size=(3, 3), stride=(1, 1), padding=(1, 1), bias=False)\n",
       "      (bn2): BatchNorm2d(256, eps=1e-05, momentum=0.1, affine=True, track_running_stats=True)\n",
       "      (conv3): Conv2d(256, 1024, kernel_size=(1, 1), stride=(1, 1), bias=False)\n",
       "      (bn3): BatchNorm2d(1024, eps=1e-05, momentum=0.1, affine=True, track_running_stats=True)\n",
       "      (relu): ReLU(inplace=True)\n",
       "    )\n",
       "    (3): Bottleneck(\n",
       "      (conv1): Conv2d(1024, 256, kernel_size=(1, 1), stride=(1, 1), bias=False)\n",
       "      (bn1): BatchNorm2d(256, eps=1e-05, momentum=0.1, affine=True, track_running_stats=True)\n",
       "      (conv2): Conv2d(256, 256, kernel_size=(3, 3), stride=(1, 1), padding=(1, 1), bias=False)\n",
       "      (bn2): BatchNorm2d(256, eps=1e-05, momentum=0.1, affine=True, track_running_stats=True)\n",
       "      (conv3): Conv2d(256, 1024, kernel_size=(1, 1), stride=(1, 1), bias=False)\n",
       "      (bn3): BatchNorm2d(1024, eps=1e-05, momentum=0.1, affine=True, track_running_stats=True)\n",
       "      (relu): ReLU(inplace=True)\n",
       "    )\n",
       "    (4): Bottleneck(\n",
       "      (conv1): Conv2d(1024, 256, kernel_size=(1, 1), stride=(1, 1), bias=False)\n",
       "      (bn1): BatchNorm2d(256, eps=1e-05, momentum=0.1, affine=True, track_running_stats=True)\n",
       "      (conv2): Conv2d(256, 256, kernel_size=(3, 3), stride=(1, 1), padding=(1, 1), bias=False)\n",
       "      (bn2): BatchNorm2d(256, eps=1e-05, momentum=0.1, affine=True, track_running_stats=True)\n",
       "      (conv3): Conv2d(256, 1024, kernel_size=(1, 1), stride=(1, 1), bias=False)\n",
       "      (bn3): BatchNorm2d(1024, eps=1e-05, momentum=0.1, affine=True, track_running_stats=True)\n",
       "      (relu): ReLU(inplace=True)\n",
       "    )\n",
       "    (5): Bottleneck(\n",
       "      (conv1): Conv2d(1024, 256, kernel_size=(1, 1), stride=(1, 1), bias=False)\n",
       "      (bn1): BatchNorm2d(256, eps=1e-05, momentum=0.1, affine=True, track_running_stats=True)\n",
       "      (conv2): Conv2d(256, 256, kernel_size=(3, 3), stride=(1, 1), padding=(1, 1), bias=False)\n",
       "      (bn2): BatchNorm2d(256, eps=1e-05, momentum=0.1, affine=True, track_running_stats=True)\n",
       "      (conv3): Conv2d(256, 1024, kernel_size=(1, 1), stride=(1, 1), bias=False)\n",
       "      (bn3): BatchNorm2d(1024, eps=1e-05, momentum=0.1, affine=True, track_running_stats=True)\n",
       "      (relu): ReLU(inplace=True)\n",
       "    )\n",
       "  )\n",
       "  (layer4): Sequential(\n",
       "    (0): Bottleneck(\n",
       "      (conv1): Conv2d(1024, 512, kernel_size=(1, 1), stride=(1, 1), bias=False)\n",
       "      (bn1): BatchNorm2d(512, eps=1e-05, momentum=0.1, affine=True, track_running_stats=True)\n",
       "      (conv2): Conv2d(512, 512, kernel_size=(3, 3), stride=(2, 2), padding=(1, 1), bias=False)\n",
       "      (bn2): BatchNorm2d(512, eps=1e-05, momentum=0.1, affine=True, track_running_stats=True)\n",
       "      (conv3): Conv2d(512, 2048, kernel_size=(1, 1), stride=(1, 1), bias=False)\n",
       "      (bn3): BatchNorm2d(2048, eps=1e-05, momentum=0.1, affine=True, track_running_stats=True)\n",
       "      (relu): ReLU(inplace=True)\n",
       "      (downsample): Sequential(\n",
       "        (0): Conv2d(1024, 2048, kernel_size=(1, 1), stride=(2, 2), bias=False)\n",
       "        (1): BatchNorm2d(2048, eps=1e-05, momentum=0.1, affine=True, track_running_stats=True)\n",
       "      )\n",
       "    )\n",
       "    (1): Bottleneck(\n",
       "      (conv1): Conv2d(2048, 512, kernel_size=(1, 1), stride=(1, 1), bias=False)\n",
       "      (bn1): BatchNorm2d(512, eps=1e-05, momentum=0.1, affine=True, track_running_stats=True)\n",
       "      (conv2): Conv2d(512, 512, kernel_size=(3, 3), stride=(1, 1), padding=(1, 1), bias=False)\n",
       "      (bn2): BatchNorm2d(512, eps=1e-05, momentum=0.1, affine=True, track_running_stats=True)\n",
       "      (conv3): Conv2d(512, 2048, kernel_size=(1, 1), stride=(1, 1), bias=False)\n",
       "      (bn3): BatchNorm2d(2048, eps=1e-05, momentum=0.1, affine=True, track_running_stats=True)\n",
       "      (relu): ReLU(inplace=True)\n",
       "    )\n",
       "    (2): Bottleneck(\n",
       "      (conv1): Conv2d(2048, 512, kernel_size=(1, 1), stride=(1, 1), bias=False)\n",
       "      (bn1): BatchNorm2d(512, eps=1e-05, momentum=0.1, affine=True, track_running_stats=True)\n",
       "      (conv2): Conv2d(512, 512, kernel_size=(3, 3), stride=(1, 1), padding=(1, 1), bias=False)\n",
       "      (bn2): BatchNorm2d(512, eps=1e-05, momentum=0.1, affine=True, track_running_stats=True)\n",
       "      (conv3): Conv2d(512, 2048, kernel_size=(1, 1), stride=(1, 1), bias=False)\n",
       "      (bn3): BatchNorm2d(2048, eps=1e-05, momentum=0.1, affine=True, track_running_stats=True)\n",
       "      (relu): ReLU(inplace=True)\n",
       "    )\n",
       "  )\n",
       "  (avgpool): AdaptiveAvgPool2d(output_size=(1, 1))\n",
       "  (fc): Identity()\n",
       ")"
      ]
     },
     "execution_count": 7,
     "metadata": {},
     "output_type": "execute_result"
    }
   ],
   "source": [
    "from torch import nn\n",
    "ResNet50_model=torchvision.models.resnet50(weights=torchvision.models.ResNet50_Weights.DEFAULT)\n",
    "\n",
    "##dropping the last Fully Connected Layer with definition\n",
    "\n",
    "ResNet50_model.fc=nn.Identity()\n",
    "\n",
    "##last layer is now overwritten by Identity Layer\n",
    "for param in ResNet50_model.parameters():\n",
    "    param.requires_grad=False   ##no tracking of gradient\n",
    "\n",
    "ResNet50_model=ResNet50_model.to(device)\n",
    "ResNet50_model.eval()"
   ]
  },
  {
   "cell_type": "markdown",
   "id": "19e5c175",
   "metadata": {},
   "source": [
    "ResNetModel after over-writing last layer with Identity function\n"
   ]
  },
  {
   "cell_type": "code",
   "execution_count": 8,
   "id": "6b11392c",
   "metadata": {},
   "outputs": [
    {
     "name": "stdout",
     "output_type": "stream",
     "text": [
      "torch.Size([4, 2048])\n",
      "torch.Size([4])\n"
     ]
    }
   ],
   "source": [
    "device = torch.device(\"cuda\" if torch.cuda.is_available() else \"cpu\")\n",
    "ResNet50_model = ResNet50_model.to(device)\n",
    "\n",
    "for X, y in train_data_loader:\n",
    "    X = X.to(device)           # move input to GPU/CPU\n",
    "    y = y.to(device)           # move target to GPU/CPU\n",
    "    print(ResNet50_model(X).shape)\n",
    "    print(y.shape)\n",
    "    break\n"
   ]
  },
  {
   "cell_type": "markdown",
   "id": "5cbec687",
   "metadata": {},
   "source": [
    "Define Model to \n",
    "be fine tuned"
   ]
  },
  {
   "cell_type": "code",
   "execution_count": 9,
   "id": "492564f3",
   "metadata": {},
   "outputs": [],
   "source": [
    "fc_model=nn.Sequential(\n",
    "nn.Linear(2048,1024),\n",
    "nn.ReLU(),\n",
    "nn.Linear(1024,1)\n",
    ")\n",
    "\n",
    "fc_model=fc_model.to(device)\n",
    "\n",
    "##model ready for transfer Learning\n",
    "model=nn.Sequential(\n",
    "    ResNet50_model,\n",
    "    fc_model\n",
    ")"
   ]
  },
  {
   "cell_type": "markdown",
   "id": "95a6fdd4",
   "metadata": {},
   "source": [
    " Checking shape of output of model i.e. model(X)"
   ]
  },
  {
   "cell_type": "code",
   "execution_count": 10,
   "id": "883b60ec",
   "metadata": {},
   "outputs": [
    {
     "name": "stdout",
     "output_type": "stream",
     "text": [
      "torch.Size([4, 1])\n",
      "torch.Size([4])\n",
      "torch.Size([4, 3, 224, 224])\n",
      "torch.int64\n"
     ]
    }
   ],
   "source": [
    "for X,y in train_data_loader:\n",
    "    print(model(X.to(device)).shape)\n",
    "    break\n",
    "\n",
    "print(y.shape)\n",
    "print(X.shape)\n",
    "print(y.dtype)"
   ]
  },
  {
   "cell_type": "code",
   "execution_count": 11,
   "id": "0325fafb",
   "metadata": {},
   "outputs": [],
   "source": [
    "##defining the Optimizer and Loss Function\n",
    "optimizer=torch.optim.Adam(fc_model.parameters(),lr=0.001)\n",
    "loss_fn=nn.BCEWithLogitsLoss()  #suitable for binary/Sigmodal Output\n",
    "\n"
   ]
  },
  {
   "cell_type": "markdown",
   "id": "1b63065d",
   "metadata": {},
   "source": [
    "ADDing the Early Stopping Logic in the Training Loop"
   ]
  },
  {
   "cell_type": "code",
   "execution_count": 13,
   "id": "ec6d4c6d",
   "metadata": {},
   "outputs": [
    {
     "name": "stdout",
     "output_type": "stream",
     "text": [
      "Epoch [1/50]\n",
      "Train Loss: 0.1351, Train Acc: 0.9488\n",
      "Val Loss: 0.1425, Val Acc: 0.9380\n",
      "\n",
      "Epoch [2/50]\n",
      "Train Loss: 0.0586, Train Acc: 0.9771\n",
      "Val Loss: 0.1179, Val Acc: 0.9542\n",
      "\n",
      "Epoch [3/50]\n",
      "Train Loss: 0.0258, Train Acc: 0.9919\n",
      "Val Loss: 0.1350, Val Acc: 0.9542\n",
      "\n",
      "Epoch [4/50]\n",
      "Train Loss: 0.0140, Train Acc: 0.9946\n",
      "Val Loss: 0.1698, Val Acc: 0.9569\n",
      "\n",
      "Epoch [5/50]\n",
      "Train Loss: 0.0062, Train Acc: 0.9973\n",
      "Val Loss: 0.2111, Val Acc: 0.9461\n",
      "\n",
      "Epoch [6/50]\n",
      "Train Loss: 0.0030, Train Acc: 1.0000\n",
      "Val Loss: 0.2156, Val Acc: 0.9488\n",
      "\n",
      "Epoch [7/50]\n",
      "Train Loss: 0.0005, Train Acc: 1.0000\n",
      "Val Loss: 0.2285, Val Acc: 0.9542\n",
      "\n",
      "Early stopping triggered!\n"
     ]
    }
   ],
   "source": [
    "\n",
    "\n",
    "\n",
    "# -------------------------------\n",
    "# Training Loop with Early Stopping\n",
    "# -------------------------------\n",
    "num_epochs = 50\n",
    "patience = 5   # stop if no improvement after 5 epochs\n",
    "\n",
    "best_val_loss = float('inf')\n",
    "counter = 0\n",
    "\n",
    "# Store metrics for plotting\n",
    "train_losses, val_losses = [], []\n",
    "train_accuracies, val_accuracies = [], []\n",
    "\n",
    "for epoch in range(num_epochs):\n",
    "    # ----------------- Training Phase -----------------\n",
    "    model.train()\n",
    "    ResNet50_model.eval()   # keep ResNet backbone frozen (if fine-tuning partially)\n",
    "    \n",
    "    train_loss_sum, train_acc_sum, train_count = 0, 0, 0\n",
    "    \n",
    "    for X, y in train_data_loader:\n",
    "        X, y = X.to(device), y.to(device).type(torch.float).reshape(-1, 1)\n",
    "\n",
    "        # Forward pass\n",
    "        outputs = model(X)\n",
    "        loss = loss_fn(outputs, y)\n",
    "\n",
    "        # Backward pass + optimization\n",
    "        optimizer.zero_grad()\n",
    "        loss.backward()\n",
    "        optimizer.step()\n",
    "\n",
    "        # Accuracy\n",
    "        prediction = (torch.sigmoid(outputs) > 0.5)\n",
    "        acc = (prediction == y).sum().item()\n",
    "        \n",
    "        # Track metrics\n",
    "        train_loss_sum += loss.item()\n",
    "        train_acc_sum += acc\n",
    "        train_count += y.size(0)\n",
    "\n",
    "    avg_train_loss = train_loss_sum / len(train_data_loader)\n",
    "    avg_train_acc = train_acc_sum / train_count\n",
    "\n",
    "    # ----------------- Validation Phase -----------------\n",
    "    model.eval()\n",
    "    val_loss_sum, val_acc_sum, val_count = 0, 0, 0\n",
    "    \n",
    "    with torch.no_grad():\n",
    "        for X_val, y_val in test_data_loader:\n",
    "            X_val, y_val = X_val.to(device), y_val.to(device).type(torch.float).reshape(-1, 1)\n",
    "            \n",
    "            outputs_val = model(X_val)\n",
    "            loss_val = loss_fn(outputs_val, y_val)\n",
    "\n",
    "            prediction_val = (torch.sigmoid(outputs_val) > 0.5)\n",
    "            acc_val = (prediction_val == y_val).sum().item()\n",
    "\n",
    "            val_loss_sum += loss_val.item()\n",
    "            val_acc_sum += acc_val\n",
    "            val_count += y_val.size(0)\n",
    "\n",
    "    avg_val_loss = val_loss_sum / len(test_data_loader)\n",
    "    avg_val_acc = val_acc_sum / val_count\n",
    "\n",
    "    # ----------------- Store metrics -----------------\n",
    "    train_losses.append(avg_train_loss)\n",
    "    val_losses.append(avg_val_loss)\n",
    "    train_accuracies.append(avg_train_acc)\n",
    "    val_accuracies.append(avg_val_acc)\n",
    "\n",
    "    # ----------------- Print Progress -----------------\n",
    "    print(f\"Epoch [{epoch+1}/{num_epochs}]\")\n",
    "    print(f\"Train Loss: {avg_train_loss:.4f}, Train Acc: {avg_train_acc:.4f}\")\n",
    "    print(f\"Val Loss: {avg_val_loss:.4f}, Val Acc: {avg_val_acc:.4f}\\n\")\n",
    "\n",
    "    # ----------------- Early Stopping -----------------\n",
    "    if avg_val_loss < best_val_loss:\n",
    "        best_val_loss = avg_val_loss\n",
    "        counter = 0\n",
    "        torch.save(ResNet50_model.state_dict(), \"best_model.pth\")  # save best weights\n",
    "    else:\n",
    "        counter += 1\n",
    "        if counter >= patience:\n",
    "            print(\"Early stopping triggered!\")\n",
    "            break\n",
    "\n",
    "\n"
   ]
  },
  {
   "cell_type": "code",
   "execution_count": 14,
   "id": "44f250b2",
   "metadata": {},
   "outputs": [
    {
     "data": {
      "image/png": "[encoded data removed]",
      "text/plain": [
       "<Figure size 1200x500 with 2 Axes>"
      ]
     },
     "metadata": {},
     "output_type": "display_data"
    }
   ],
   "source": [
    "# -------------------------------\n",
    "# Plot Training & Validation Curves\n",
    "# -------------------------------\n",
    "plt.figure(figsize=(12,5))\n",
    "\n",
    "# Loss Plot\n",
    "plt.subplot(1,2,1)\n",
    "plt.plot(train_losses, label='Train Loss')\n",
    "plt.plot(val_losses, label='Validation Loss')\n",
    "plt.xlabel('Epoch')\n",
    "plt.ylabel('Loss')\n",
    "plt.title('Training vs Validation Loss')\n",
    "plt.legend()\n",
    "\n",
    "# Accuracy Plot\n",
    "plt.subplot(1,2,2)\n",
    "plt.plot(train_accuracies, label='Train Accuracy')\n",
    "plt.plot(val_accuracies, label='Validation Accuracy')\n",
    "plt.xlabel('Epoch')\n",
    "plt.ylabel('Accuracy')\n",
    "plt.title('Training vs Validation Accuracy')\n",
    "plt.legend()\n",
    "\n",
    "plt.show()"
   ]
  },
  {
   "cell_type": "code",
   "execution_count": null,
   "id": "46b335dd",
   "metadata": {},
   "outputs": [],
   "source": []
  }
 ],
 "metadata": {
  "kernelspec": {
   "display_name": "my_env",
   "language": "python",
   "name": "python3"
  },
  "language_info": {
   "codemirror_mode": {
    "name": "ipython",
    "version": 3
   },
   "file_extension": ".py",
   "mimetype": "text/x-python",
   "name": "python",
   "nbconvert_exporter": "python",
   "pygments_lexer": "ipython3",
   "version": "3.10.16"
  }
 },
 "nbformat": 4,
 "nbformat_minor": 5
}
